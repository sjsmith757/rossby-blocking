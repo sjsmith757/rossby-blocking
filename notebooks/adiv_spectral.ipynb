{
 "cells": [
  {
   "cell_type": "code",
   "execution_count": 1,
   "metadata": {},
   "outputs": [],
   "source": [
    "import numpy as np\n",
    "import matplotlib.pyplot as plt\n",
    "%matplotlib inline"
   ]
  },
  {
   "cell_type": "code",
   "execution_count": 3,
   "metadata": {},
   "outputs": [],
   "source": [
    "def nonlinear_coeff(asp,csp,nn):\n",
    "    wn = np.zeros(nn,dtype=np.complex64)\n",
    "    gn = np.zeros(nn,dtype=np.complex64)\n",
    "    for n in range(0,nn):\n",
    "        for k in range(0,n):\n",
    "            wn[n] += asp[k]*asp[n-k]\n",
    "            gn[n] += 2.0j*(n-k)*csp[n]*asp[n-k]\n",
    "            #gn[n] += 1.0j*csp[n]*asp[n-k]\n",
    "    return wn,gn"
   ]
  },
  {
   "cell_type": "code",
   "execution_count": 9,
   "metadata": {},
   "outputs": [],
   "source": [
    "def sp_linear(ssp,asp,tau,deltat):\n",
    "    asp3 = 1/(1.0+deltat/tau) * (ssp*deltat + asp)\n",
    "    return asp3"
   ]
  },
  {
   "cell_type": "code",
   "execution_count": 8,
   "metadata": {},
   "outputs": [],
   "source": [
    "def sp_diffusion(asp,dcoeff,deltat):\n",
    "    asp2 = np.zeros(len(asp),dtype=np.complex64)\n",
    "    for n in range(0,len(asp2)):\n",
    "        asp2[n] = 1.0/(1+dcoeff*deltat*n**2) * asp[n]\n",
    "    return asp2"
   ]
  },
  {
   "cell_type": "code",
   "execution_count": 7,
   "metadata": {},
   "outputs": [],
   "source": [
    "def sp_nonlinear(asp,wn,gn,alpha,deltat):\n",
    "    asp1 = asp + deltat*(alpha*wn - gn)\n",
    "    return asp1"
   ]
  },
  {
   "cell_type": "code",
   "execution_count": 25,
   "metadata": {},
   "outputs": [],
   "source": [
    "def integrate(agp,cgp,sgp,alpha,tau,dcoeff,history=True,nsteps=1):\n",
    "    if history:\n",
    "        hagp = np.zeros((nsteps+1,len(agp)))\n",
    "        hagp[0,:] = agp[:]\n",
    "    else:\n",
    "        hagp = np.zeros(len(agp))\n",
    "    \n",
    "    asp = np.fft.fft(agp)\n",
    "    ssp = np.fft.fft(sgp)\n",
    "    csp = np.fft.fft(cgp)\n",
    "    \n",
    "    #asp1 = np.zeros(len(asp),dtype=np.complex64)\n",
    "    #asp2 = np.zeros(len(asp),dtype=np.complex64)\n",
    "    #asp3 = np.zeros(len(asp),dtype=np.complex64)\n",
    "    \n",
    "    deltat = len(agp)/np.amax(cgp)\n",
    "    \n",
    "    for nt in range(0,nsteps):\n",
    "        wn,gn = nonlinear_coeff(asp,csp,len(asp))\n",
    "        asp1 = sp_nonlinear(asp,wn,gn,alpha,deltat)\n",
    "        asp2 = sp_diffusion(asp,dcoeff,deltat)\n",
    "        asp3 = sp_linear(ssp,asp,tau,deltat)\n",
    "        \n",
    "        asp = asp1 + asp2 + asp3\n",
    "        \n",
    "        if history:\n",
    "            hagp[nt+1,:] = np.fft.fft(asp)\n",
    "    \n",
    "    if not history:\n",
    "        hagp[:] = np.fft.ifft(asp).real\n",
    "        \n",
    "    return hagp"
   ]
  },
  {
   "cell_type": "code",
   "execution_count": 26,
   "metadata": {},
   "outputs": [],
   "source": [
    "agp = np.zeros(128)\n",
    "cgp = np.sin(np.linspace(0,2*np.pi,num=128))*0.01\n",
    "sgp = np.sin(np.linspace(0,2*np.pi,num=128)+np.pi/3.0)*0.001\n",
    "alpha = 1.0\n",
    "tau = 1.0\n",
    "dcoeff = 0.05\n"
   ]
  },
  {
   "cell_type": "code",
   "execution_count": 29,
   "metadata": {},
   "outputs": [
    {
     "data": {
      "text/plain": [
       "[<matplotlib.lines.Line2D at 0x7f95826656d8>]"
      ]
     },
     "execution_count": 29,
     "metadata": {},
     "output_type": "execute_result"
    },
    {
     "data": {
      "image/png": "[encoded data removed]",
      "text/plain": [
       "<Figure size 432x288 with 1 Axes>"
      ]
     },
     "metadata": {},
     "output_type": "display_data"
    }
   ],
   "source": [
    "plt.plot(integrate(agp,cgp,sgp,alpha,tau,dcoeff,history=False,nsteps=1))"
   ]
  },
  {
   "cell_type": "code",
   "execution_count": null,
   "metadata": {},
   "outputs": [],
   "source": []
  }
 ],
 "metadata": {
  "kernelspec": {
   "display_name": "Python 3",
   "language": "python",
   "name": "python3"
  },
  "language_info": {
   "codemirror_mode": {
    "name": "ipython",
    "version": 3
   },
   "file_extension": ".py",
   "mimetype": "text/x-python",
   "name": "python",
   "nbconvert_exporter": "python",
   "pygments_lexer": "ipython3",
   "version": "3.6.5"
  }
 },
 "nbformat": 4,
 "nbformat_minor": 2
}
